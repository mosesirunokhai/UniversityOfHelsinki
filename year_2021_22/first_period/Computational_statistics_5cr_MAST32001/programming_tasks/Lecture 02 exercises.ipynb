{
 "cells": [
  {
   "cell_type": "markdown",
   "metadata": {},
   "source": [
    "University of Helsinki, Master's Programme in Mathematics and Statistics  \n",
    "MAST32001 Computational Statistics, Autumn 2021  \n",
    "Luigi Acerbi  \n",
    "Based on notebook by Antti Honkela\n",
    "# Lecture 2: Random number generators and simulating random numbers\n",
    "\n",
    "Background reading: please see Chapter 2 of the \"Course notes\" available in Moodle."
   ]
  },
  {
   "cell_type": "markdown",
   "metadata": {},
   "source": [
    "## Important best practices\n",
    "\n",
    "**Always set and save your random seed to make your experiments repeatable**"
   ]
  },
  {
   "cell_type": "markdown",
   "metadata": {},
   "source": [
    "### 1. Simulating discrete distributions\n",
    "\n",
    "Many statistical applications depend on generating random numbers with a specific distribution. We will return to the topic many times with increasingly complex methods, but before that we start simple.\n",
    "\n",
    "1. Write a program to simulate a fair 6-sided die using a uniform(0,1) RNG such as those provided by `numpy.random`. How many throws do you have to simulate to be reasonably sure (e.g., ~95% probability) to get at least 10 6s?\n",
    "2. Write a program to simulate a biased coin with a specified bias using a uniform(0,1) RNG.\n",
    "3. Simulate a coin flip competition between a person using a fair coin and a person using a biased coin 100 times. How large a bias do you need for it to lead to 95% probability of the person using the biased coin to obtain more heads than the person using the fair coin? What if you want 99% probability?"
   ]
  },
  {
   "cell_type": "code",
   "execution_count": null,
   "metadata": {},
   "outputs": [],
   "source": [
    "import numpy as np\n",
    "import numpy.random as npr\n",
    "\n",
    "#1\n",
    "\n",
    "#2\n",
    "\n",
    "#3"
   ]
  },
  {
   "cell_type": "markdown",
   "metadata": {},
   "source": [
    "### 2. Simulating continuous distributions with transformations\n",
    "\n",
    "1. Derive and implement a method for sampling from the distribution $\\mathrm{Exponential}(\\lambda)$ using inverse cumulative density transformation (see course notes!).\n",
    "2. Test your method by drawing 1000 samples with the values $\\lambda = 0.1, 1, 10$. Compute the mean and standard deviation of the samples for each case. Plot a histogram of the samples together with the density and check if they match.\n",
    "3. Implement a method for sampling from the normal distribution using Box-Muller transformation (See Sec. 2.2.1 of the course notes)\n",
    "4. Test your method and plot the histogram of the samples together with the density and check if they match.\n",
    "5. Check what is the largest value of a normally distributed random number that can be generated like this?\n",
    "\n",
    "Hints: An example of how to use plotting is included below. You can use `plt.hist(..., density=True)` to plot a normalised histogram. Try to find a suitable number of bins to make the plot meaningful. You can view documentation for the function plt.hist using the command:  \n",
    "`? plt.hist`"
   ]
  },
  {
   "cell_type": "code",
   "execution_count": null,
   "metadata": {},
   "outputs": [],
   "source": [
    "# Some hints for plotting.\n",
    "# In order to plot simple functions with matplotlib and NumPy you can use\n",
    "# Initialise plotting in the IPython/Jupyter notebook:\n",
    "%matplotlib inline\n",
    "import numpy as np  # import numpy, alias as np to save typying (common convention)\n",
    "import matplotlib.pyplot as plt   # import matplotlib, alias as plt to save typing (common convention)\n",
    "\n",
    "t = np.linspace(0, 10, 100)\n",
    "plt.plot(t, np.sin(t))"
   ]
  },
  {
   "cell_type": "code",
   "execution_count": null,
   "metadata": {},
   "outputs": [],
   "source": []
  },
  {
   "cell_type": "markdown",
   "metadata": {},
   "source": [
    "### 3. Basic rejection sampling\n",
    "\n",
    "1. Design and implement rejection sampling for sampling from the density\n",
    "$$ p(x) = 4x^3, \\quad x \\in [0, 1] $$\n",
    "using the uniform distribution on the interval $[0,1]$ as the proposal.\n",
    "2. Which value of $M$ can you use? How does the choice of $M$ affect the method?\n",
    "3. Test your method and plot the generated samples together with the density and check that they match."
   ]
  },
  {
   "cell_type": "code",
   "execution_count": null,
   "metadata": {},
   "outputs": [],
   "source": []
  },
  {
   "cell_type": "markdown",
   "metadata": {},
   "source": [
    "### 4. Mersenne Twister\n",
    "\n",
    "The most popular random number generator is the Mersenne Twister, which is also used by Python (`random.random()`). It can be used to generate uniformly distributed integers in a given interval, which can be transformed to floating point numbers in a given interval.\n",
    "\n",
    "1. Find the documentation of the Python random number generators.\n",
    "2. Try random.random() and numpy.random.random() generators while setting the seed to a known value.\n",
    "3. Test that you can recreate the same sequence of numbers by setting the seed to the same value.\n",
    "4. Guess how many different random numbers you need to sample until you start seeing the same number repeated. Test your guess.  \n",
    "  - *Hint*: If you are completely unsure about the guess, look up the \"[birthday problem](https://en.wikipedia.org/wiki/Birthday_problem)\". Think how many different numbers you can represent *uniformly* with double precision.\n",
    "  - When testing with a large number of random numbers, you may have trouble such as running out of memory etc. It is advisable to increase the number of random samples you test relatively slowly (say by a factor of 2 at a time) to avoid starting runs that completely kill your computer for a long time."
   ]
  },
  {
   "cell_type": "code",
   "execution_count": null,
   "metadata": {},
   "outputs": [],
   "source": []
  },
  {
   "cell_type": "markdown",
   "metadata": {},
   "source": [
    "### *5. More advanced random number generators (optional)\n",
    "\n",
    "The PCG family of RNGs claims to be superior to standard approaches such as Mersenne Twister, see http://www.pcg-random.org/\n",
    "\n",
    "1. Read the description of the PCG generator and its features.\n",
    "2. Find an implementation of the PCG generator and test it as above (*Hint*: recent versions of NumPy use the PCG generator as their default RNG stream)."
   ]
  },
  {
   "cell_type": "code",
   "execution_count": null,
   "metadata": {},
   "outputs": [],
   "source": []
  },
  {
   "cell_type": "markdown",
   "metadata": {},
   "source": [
    "### Bonus extra: BBC In Our Time podcast \"Random and Pseudorandom\"\n",
    "\n",
    "http://www.bbc.co.uk/programmes/b00x9xjb"
   ]
  },
  {
   "cell_type": "code",
   "execution_count": null,
   "metadata": {},
   "outputs": [],
   "source": []
  }
 ],
 "metadata": {
  "kernelspec": {
   "display_name": "Python 3 (ipykernel)",
   "language": "python",
   "name": "python3"
  },
  "language_info": {
   "codemirror_mode": {
    "name": "ipython",
    "version": 3
   },
   "file_extension": ".py",
   "mimetype": "text/x-python",
   "name": "python",
   "nbconvert_exporter": "python",
   "pygments_lexer": "ipython3",
   "version": "3.8.10"
  }
 },
 "nbformat": 4,
 "nbformat_minor": 1
}
